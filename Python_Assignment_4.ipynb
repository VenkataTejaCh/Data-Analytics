{
 "cells": [
  {
   "cell_type": "raw",
   "id": "c4c223d3",
   "metadata": {},
   "source": [
    "1.\tPython program to find smallest number in a list"
   ]
  },
  {
   "cell_type": "code",
   "execution_count": 86,
   "id": "ef6056c6",
   "metadata": {},
   "outputs": [
    {
     "data": {
      "text/plain": [
       "-8"
      ]
     },
     "execution_count": 86,
     "metadata": {},
     "output_type": "execute_result"
    }
   ],
   "source": [
    "list1=[-4,-8,0,12,13,14,5,4]\n",
    "smallest_list=sorted(list1)\n",
    "smallest=smallest_list[0]\n",
    "smallest"
   ]
  },
  {
   "cell_type": "raw",
   "id": "f2b31689",
   "metadata": {},
   "source": [
    "2.\tPython program to find largest number in a list"
   ]
  },
  {
   "cell_type": "code",
   "execution_count": 87,
   "id": "486c02c1",
   "metadata": {},
   "outputs": [
    {
     "data": {
      "text/plain": [
       "108"
      ]
     },
     "execution_count": 87,
     "metadata": {},
     "output_type": "execute_result"
    }
   ],
   "source": [
    "list1=[12,13,14,5,4,108]\n",
    "large_list=sorted(list1)\n",
    "largest=large_list[-1]\n",
    "largest"
   ]
  },
  {
   "cell_type": "raw",
   "id": "5851b9b6",
   "metadata": {},
   "source": [
    "3.\tPython program to find second largest number in a list"
   ]
  },
  {
   "cell_type": "code",
   "execution_count": 88,
   "id": "83dd80a2",
   "metadata": {},
   "outputs": [
    {
     "data": {
      "text/plain": [
       "14"
      ]
     },
     "execution_count": 88,
     "metadata": {},
     "output_type": "execute_result"
    }
   ],
   "source": [
    "list1=[12,13,14,5,4,65]\n",
    "large_list=sorted(list1)\n",
    "largest=large_list[-2]\n",
    "largest"
   ]
  },
  {
   "cell_type": "raw",
   "id": "3a46eeb2",
   "metadata": {},
   "source": [
    "4.\tPython program to find N largest elements from a list"
   ]
  },
  {
   "cell_type": "code",
   "execution_count": 89,
   "id": "d71ccff3",
   "metadata": {},
   "outputs": [
    {
     "name": "stdout",
     "output_type": "stream",
     "text": [
      "Enter N value4\n",
      "[14, 23, 56, 78]\n"
     ]
    }
   ],
   "source": [
    "n = int(input(\"Enter N value\"))\n",
    "list1=[12,13,14,5,4,78,56,23]\n",
    "large_list=sorted(list1)\n",
    "print(large_list[-n:])\n"
   ]
  },
  {
   "cell_type": "raw",
   "id": "5fd1b610",
   "metadata": {},
   "source": [
    "5.\tPython program to print even numbers in a list"
   ]
  },
  {
   "cell_type": "code",
   "execution_count": 90,
   "id": "0ce175e3",
   "metadata": {},
   "outputs": [
    {
     "name": "stdout",
     "output_type": "stream",
     "text": [
      "12 14 4 "
     ]
    }
   ],
   "source": [
    "list1=[12,13,14,5,4]\n",
    "for i in list1:\n",
    "    if i%2==0:\n",
    "        print(i, end =\" \")\n",
    "    else:\n",
    "        pass\n"
   ]
  },
  {
   "cell_type": "raw",
   "id": "f8b4bb7c",
   "metadata": {},
   "source": [
    "6.\tPython program to print odd numbers in a List"
   ]
  },
  {
   "cell_type": "code",
   "execution_count": 91,
   "id": "800320b4",
   "metadata": {},
   "outputs": [
    {
     "name": "stdout",
     "output_type": "stream",
     "text": [
      "13 5 3 91 "
     ]
    }
   ],
   "source": [
    "list1=[12,13,14,5,4,3,91]\n",
    "for i in list1:\n",
    "    if i%2!=0:\n",
    "        print(i, end =\" \")\n",
    "    else:\n",
    "        pass"
   ]
  },
  {
   "cell_type": "raw",
   "id": "04b68da5",
   "metadata": {},
   "source": [
    "7.\tPython program to print all even numbers in a range"
   ]
  },
  {
   "cell_type": "code",
   "execution_count": 92,
   "id": "7a5a750a",
   "metadata": {},
   "outputs": [
    {
     "name": "stdout",
     "output_type": "stream",
     "text": [
      "0 2 4 6 8 10 12 14 16 18 20 22 24 26 28 30 32 34 36 38 40 42 44 46 48 50 52 54 56 58 60 62 64 66 68 70 72 74 76 78 80 82 84 86 88 90 92 94 96 98 "
     ]
    }
   ],
   "source": [
    "l = range(0,100)\n",
    "for i in l:\n",
    "    if i%2==0:\n",
    "        print(i, end =\" \")\n",
    "    else:\n",
    "        pass"
   ]
  },
  {
   "cell_type": "raw",
   "id": "b3189354",
   "metadata": {},
   "source": [
    "8.\tPython program to print all odd numbers in a range"
   ]
  },
  {
   "cell_type": "code",
   "execution_count": 93,
   "id": "d91ed367",
   "metadata": {},
   "outputs": [
    {
     "name": "stdout",
     "output_type": "stream",
     "text": [
      "1 3 5 7 9 11 13 15 17 19 21 23 25 27 29 31 33 35 37 39 41 43 45 47 49 51 53 55 57 59 61 63 65 67 69 71 73 75 77 79 81 83 85 87 89 91 93 95 97 99 "
     ]
    }
   ],
   "source": [
    "l= range(0,100)\n",
    "for i in l:\n",
    "    if i%2!=0:\n",
    "        print(i, end =\" \")\n",
    "    else:\n",
    "        pass"
   ]
  },
  {
   "cell_type": "raw",
   "id": "941ee88c",
   "metadata": {},
   "source": [
    "9.\tPython program to print positive numbers in a list"
   ]
  },
  {
   "cell_type": "code",
   "execution_count": 94,
   "id": "5ad118db",
   "metadata": {},
   "outputs": [
    {
     "name": "stdout",
     "output_type": "stream",
     "text": [
      "1 2 3 "
     ]
    }
   ],
   "source": [
    "l = [1,2,3,-4,-6,-9,0,-7]\n",
    "for i in l:\n",
    "    if i>0:\n",
    "        print(i, end = \" \")\n",
    "    else:\n",
    "        pass"
   ]
  },
  {
   "cell_type": "raw",
   "id": "b7b115de",
   "metadata": {},
   "source": [
    "10.\tPython program to print negative numbers in a list"
   ]
  },
  {
   "cell_type": "code",
   "execution_count": 95,
   "id": "2e026681",
   "metadata": {},
   "outputs": [
    {
     "name": "stdout",
     "output_type": "stream",
     "text": [
      "-4 -6 -9 -7 "
     ]
    }
   ],
   "source": [
    "l = [1,2,3,-4,-6,-9,-7,0]\n",
    "for i in l:\n",
    "    if i<0:\n",
    "        print(i, end = \" \")\n",
    "    else:\n",
    "        pass"
   ]
  },
  {
   "cell_type": "raw",
   "id": "b1fdfd3b",
   "metadata": {},
   "source": [
    "11.\tPython program to print all positive numbers in a range"
   ]
  },
  {
   "cell_type": "code",
   "execution_count": 96,
   "id": "933bceb9",
   "metadata": {},
   "outputs": [
    {
     "name": "stdout",
     "output_type": "stream",
     "text": [
      "1 2 3 4 5 6 7 8 9 10 11 12 13 14 15 16 17 18 19 20 "
     ]
    }
   ],
   "source": [
    "l=range(-10,21)\n",
    "for i in l:\n",
    "    if i>0:\n",
    "        print(i, end = \" \")\n",
    "    else:\n",
    "        pass"
   ]
  },
  {
   "cell_type": "code",
   "execution_count": null,
   "id": "c49e0196",
   "metadata": {},
   "outputs": [],
   "source": []
  }
 ],
 "metadata": {
  "kernelspec": {
   "display_name": "Python 3 (ipykernel)",
   "language": "python",
   "name": "python3"
  },
  "language_info": {
   "codemirror_mode": {
    "name": "ipython",
    "version": 3
   },
   "file_extension": ".py",
   "mimetype": "text/x-python",
   "name": "python",
   "nbconvert_exporter": "python",
   "pygments_lexer": "ipython3",
   "version": "3.9.12"
  }
 },
 "nbformat": 4,
 "nbformat_minor": 5
}
